{
 "cells": [
  {
   "attachments": {},
   "cell_type": "markdown",
   "metadata": {},
   "source": [
    "## Import Module"
   ]
  },
  {
   "cell_type": "code",
   "execution_count": 18,
   "metadata": {},
   "outputs": [],
   "source": [
    "import pandas as pd\n",
    "from surprise import Reader"
   ]
  },
  {
   "attachments": {},
   "cell_type": "markdown",
   "metadata": {},
   "source": [
    "## Examine Dataset"
   ]
  },
  {
   "cell_type": "code",
   "execution_count": 19,
   "metadata": {},
   "outputs": [
    {
     "name": "stdout",
     "output_type": "stream",
     "text": [
      "                            user_id   book_id  \\\n",
      "0  d089c9b670c0b0b339353aebbace46a1   7686667   \n",
      "1  6dcb2c16e12a41ae0c6c38e9d46f3292  18073066   \n",
      "2  244e0ce681148a7586d7746676093ce9  13610986   \n",
      "3  73fcc25ff29f8b73b3a7578aec846394  27274343   \n",
      "4  f8880e158a163388a990b64fec7df300  11614718   \n",
      "\n",
      "                          review_id  rating  \\\n",
      "0  3337e0e75701f7f682de11638ccdc60c       3   \n",
      "1  7201aa3c1161f2bad81258b6d4686c16       5   \n",
      "2  07a203f87bfe1b65ff58774667f6f80d       5   \n",
      "3  8be2d87b07098c16f9742020ec459383       1   \n",
      "4  a29c4ba03e33ad073a414ac775266c5f       4   \n",
      "\n",
      "                                         review_text  \\\n",
      "0  Like Matched, this book felt like it was echoi...   \n",
      "1  WOW again! 4,5 Stars \\r\\n So i wont forget to ...   \n",
      "2  The second novel was hot & heavy. Not only in ...   \n",
      "3  What a maddening waste of time. And I unfortun...   \n",
      "4  4.5 stars! \\r\\n This was an awesome read! \\r\\n...   \n",
      "\n",
      "                       date_added                    date_updated  \\\n",
      "0  Fri Apr 29 14:45:32 -0700 2011  Mon Feb 02 12:57:57 -0800 2015   \n",
      "1  Thu Aug 01 02:15:18 -0700 2013  Mon Nov 18 14:49:26 -0800 2013   \n",
      "2  Sun Nov 23 18:17:50 -0800 2014  Sat May 16 20:34:19 -0700 2015   \n",
      "3  Mon Oct 31 08:29:06 -0700 2016  Wed Apr 26 16:06:28 -0700 2017   \n",
      "4  Tue Mar 26 10:55:30 -0700 2013  Mon Sep 08 09:57:05 -0700 2014   \n",
      "\n",
      "                          read_at                      started_at  n_votes  \\\n",
      "0  Sat Jun 18 00:00:00 -0700 2011  Thu May 19 00:00:00 -0700 2011        0   \n",
      "1  Mon Aug 19 00:00:00 -0700 2013  Mon Aug 12 00:00:00 -0700 2013       16   \n",
      "2  Fri Dec 19 00:00:00 -0800 2014  Sun Nov 23 00:00:00 -0800 2014        0   \n",
      "3  Wed Apr 26 16:06:28 -0700 2017  Sun Apr 23 00:00:00 -0700 2017        0   \n",
      "4  Sun Apr 20 09:26:41 -0700 2014  Fri Apr 18 00:00:00 -0700 2014        0   \n",
      "\n",
      "   n_comments  \n",
      "0           0  \n",
      "1          14  \n",
      "2           0  \n",
      "3           1  \n",
      "4           0  \n"
     ]
    }
   ],
   "source": [
    "# read dataset\n",
    "book_ratings = pd.read_csv('goodreads_ratings.csv')\n",
    "\n",
    "# check first 5 rows\n",
    "print(book_ratings.head())"
   ]
  },
  {
   "attachments": {},
   "cell_type": "markdown",
   "metadata": {},
   "source": [
    "## Check Dataset Info"
   ]
  },
  {
   "cell_type": "code",
   "execution_count": 20,
   "metadata": {},
   "outputs": [
    {
     "name": "stdout",
     "output_type": "stream",
     "text": [
      "<class 'pandas.core.frame.DataFrame'>\n",
      "RangeIndex: 3500 entries, 0 to 3499\n",
      "Data columns (total 11 columns):\n",
      " #   Column        Non-Null Count  Dtype \n",
      "---  ------        --------------  ----- \n",
      " 0   user_id       3500 non-null   object\n",
      " 1   book_id       3500 non-null   int64 \n",
      " 2   review_id     3500 non-null   object\n",
      " 3   rating        3500 non-null   int64 \n",
      " 4   review_text   3500 non-null   object\n",
      " 5   date_added    3500 non-null   object\n",
      " 6   date_updated  3500 non-null   object\n",
      " 7   read_at       3167 non-null   object\n",
      " 8   started_at    2395 non-null   object\n",
      " 9   n_votes       3500 non-null   int64 \n",
      " 10  n_comments    3500 non-null   int64 \n",
      "dtypes: int64(4), object(7)\n",
      "memory usage: 300.9+ KB\n",
      "None\n"
     ]
    }
   ],
   "source": [
    "# check dataset info \n",
    "print(book_ratings.info())"
   ]
  },
  {
   "attachments": {},
   "cell_type": "markdown",
   "metadata": {},
   "source": [
    "## Check Target Column (Rating)"
   ]
  },
  {
   "cell_type": "code",
   "execution_count": 21,
   "metadata": {},
   "outputs": [
    {
     "name": "stdout",
     "output_type": "stream",
     "text": [
      "4    1278\n",
      "5    1001\n",
      "3     707\n",
      "2     269\n",
      "1     125\n",
      "0     120\n",
      "Name: rating, dtype: int64\n"
     ]
    }
   ],
   "source": [
    "# check distinct value and count\n",
    "print(book_ratings['rating'].value_counts())\n",
    "\n",
    "# filter ratings that are 0 \n",
    "book_ratings = book_ratings[book_ratings['rating']!=0]"
   ]
  },
  {
   "attachments": {},
   "cell_type": "markdown",
   "metadata": {},
   "source": [
    "## Load Dataset into Surprise"
   ]
  },
  {
   "cell_type": "code",
   "execution_count": 22,
   "metadata": {},
   "outputs": [],
   "source": [
    "# load reader\n",
    "from surprise import Reader\n",
    "reader = Reader(rating_scale=(1, 5))\n",
    "\n",
    "# load df\n",
    "from surprise import Dataset\n",
    "df = Dataset.load_from_df(book_ratings[['user_id', 'book_id', 'rating']], reader)"
   ]
  },
  {
   "attachments": {},
   "cell_type": "markdown",
   "metadata": {},
   "source": [
    "## Split into Train/Test "
   ]
  },
  {
   "cell_type": "code",
   "execution_count": 23,
   "metadata": {},
   "outputs": [],
   "source": [
    "from surprise.model_selection import train_test_split\n",
    "\n",
    "trainset, testset = train_test_split(df, test_size=.2) #80% Train, 20% Test"
   ]
  },
  {
   "attachments": {},
   "cell_type": "markdown",
   "metadata": {},
   "source": [
    "## Model Training"
   ]
  },
  {
   "cell_type": "code",
   "execution_count": 24,
   "metadata": {},
   "outputs": [
    {
     "name": "stdout",
     "output_type": "stream",
     "text": [
      "Computing the msd similarity matrix...\n",
      "Done computing similarity matrix.\n"
     ]
    },
    {
     "data": {
      "text/plain": [
       "<surprise.prediction_algorithms.knns.KNNBasic at 0x217c579ae80>"
      ]
     },
     "execution_count": 24,
     "metadata": {},
     "output_type": "execute_result"
    }
   ],
   "source": [
    "from surprise import KNNBasic\n",
    "\n",
    "model = KNNBasic()\n",
    "model.fit(trainset)"
   ]
  },
  {
   "attachments": {},
   "cell_type": "markdown",
   "metadata": {},
   "source": [
    "## Model Evaluation"
   ]
  },
  {
   "cell_type": "code",
   "execution_count": 25,
   "metadata": {},
   "outputs": [
    {
     "name": "stdout",
     "output_type": "stream",
     "text": [
      "RMSE: 1.0913\n"
     ]
    },
    {
     "data": {
      "text/plain": [
       "1.0913110633816907"
      ]
     },
     "execution_count": 25,
     "metadata": {},
     "output_type": "execute_result"
    }
   ],
   "source": [
    "from surprise import accuracy\n",
    "predictions = model.test(testset)\n",
    "accuracy.rmse(predictions)\n",
    "\n",
    "# Model is not that good as the variation of prediction is around 1.07"
   ]
  },
  {
   "cell_type": "markdown",
   "metadata": {},
   "source": [
    "## Check Prediction"
   ]
  },
  {
   "cell_type": "code",
   "execution_count": 26,
   "metadata": {},
   "outputs": [
    {
     "name": "stdout",
     "output_type": "stream",
     "text": [
      "3.8191568047337277\n"
     ]
    }
   ],
   "source": [
    "print(model.predict('8842281e1d1347389f2ab93d60773d4d', '18007564').est)\n",
    "\n",
    "#model predict that this user will give 3.82 rating to the book 18007564"
   ]
  }
 ],
 "metadata": {
  "kernelspec": {
   "display_name": "Python 3.9.7 ('base')",
   "language": "python",
   "name": "python3"
  },
  "language_info": {
   "codemirror_mode": {
    "name": "ipython",
    "version": 3
   },
   "file_extension": ".py",
   "mimetype": "text/x-python",
   "name": "python",
   "nbconvert_exporter": "python",
   "pygments_lexer": "ipython3",
   "version": "3.9.7"
  },
  "orig_nbformat": 4,
  "vscode": {
   "interpreter": {
    "hash": "f8255ea0e20b76b96de9340488d98706716573bad12ae5875c680362d0dbfe24"
   }
  }
 },
 "nbformat": 4,
 "nbformat_minor": 2
}
